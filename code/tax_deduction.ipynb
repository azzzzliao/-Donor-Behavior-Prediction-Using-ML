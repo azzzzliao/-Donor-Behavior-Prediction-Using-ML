{
 "cells": [
  {
   "cell_type": "markdown",
   "metadata": {},
   "source": [
    "## Predict whether a person needs tax deduction"
   ]
  },
  {
   "cell_type": "markdown",
   "metadata": {},
   "source": [
    "### Preprocessing "
   ]
  },
  {
   "cell_type": "code",
   "execution_count": 19,
   "metadata": {},
   "outputs": [
    {
     "name": "stdout",
     "output_type": "stream",
     "text": [
      "0\n"
     ]
    }
   ],
   "source": [
    "import pandas as pd\n",
    "import numpy as np\n",
    "import matplotlib.pyplot as plt\n",
    "import seaborn as sns\n",
    "from sklearn.metrics import accuracy_score\n",
    "from sklearn.model_selection import train_test_split\n",
    "from sklearn.metrics import classification_report\n",
    "\n",
    "## Load the dataset\n",
    "data = pd.read_csv('dataset.csv')\n",
    "## Classify the data into features and target\n",
    "\n",
    "X = data.drop(['donation_id','tax','name'], axis=1)\n",
    "Y = data['tax']\n",
    "labels = ['Not for tax deduction','For tax deduction']\n",
    "## Split the data into training and testing data\n",
    "# X_train, X_test, Y_train, Y_test = train_test_split(X, Y, test_size=0.3, random_state=0)\n",
    "\n",
    "\n",
    "print (data['category'].isnull().sum())"
   ]
  },
  {
   "cell_type": "markdown",
   "metadata": {},
   "source": [
    "### Try out SVC, Decision Tree, Random Forest and XGBoost, compare the performance (focus on accuracy)\n",
    "\n"
   ]
  },
  {
   "cell_type": "markdown",
   "metadata": {},
   "source": [
    "### SVC"
   ]
  },
  {
   "cell_type": "code",
   "execution_count": 20,
   "metadata": {},
   "outputs": [
    {
     "name": "stdout",
     "output_type": "stream",
     "text": [
      "best ratio of testing data: 10 best kernel: rbf best gamma: scale \n",
      "Training score: 0.6032765891678258 Testing score: 0.6173256507053447\n"
     ]
    }
   ],
   "source": [
    "from sklearn import svm\n",
    "\n",
    "ratio = 100\n",
    "ratiovalues = [i for i in range(10, ratio, 10)]\n",
    "kernelvalues = [\"rbf\", \"poly\"]#, \"sigmoid\"]\n",
    "gammavalues =[\"scale\"]#, \"auto\"]\n",
    "relative_best_train_score = 0\n",
    "relative_best_test_score = 0\n",
    "relative_best_ratio = 0\n",
    "relative_best_kernel = \"\"\n",
    "relative_best_gamma = \"\"\n",
    "\n",
    "\n",
    "for k in ratiovalues:\n",
    "    X_train, X_test, Y_train, Y_test = train_test_split(X, Y, test_size = k/100, random_state=71)\n",
    "    for i in kernelvalues:\n",
    "        for j in gammavalues:\n",
    "            clf = svm.SVC(random_state = 71, kernel = i, gamma = j)\n",
    "            clf.fit(X_train, Y_train)\n",
    "            Y_pred_train = clf.predict(X_train) #train\n",
    "            train_acc = accuracy_score(Y_pred_train, Y_train)\n",
    "            Y_pred_test = clf.predict(X_test) #train\n",
    "            test_acc = accuracy_score(Y_pred_test, Y_test)\n",
    "\n",
    "            if ((train_acc > relative_best_train_score) and (test_acc > relative_best_test_score)):\n",
    "                relative_best_train_score = train_acc\n",
    "                relative_best_test_score = test_acc\n",
    "                relative_best_ratio = k\n",
    "                relative_best_kernel = i\n",
    "                relative_best_gamma = j\n",
    "\n",
    "print(\"best ratio of testing data:\", relative_best_ratio, \"best kernel:\", relative_best_kernel, \"best gamma:\", relative_best_gamma, \\\n",
    "      \"\\nTraining score:\", relative_best_train_score, \"Testing score:\", relative_best_test_score)"
   ]
  },
  {
   "cell_type": "markdown",
   "metadata": {},
   "source": [
    "Best Performance\n",
    "- ratio of testing data: 10\n",
    "- kernal: rbf\n",
    "- best gamma: scale\n",
    "- Training score: 0.6032765\n",
    "- Testing score: 0.6173256"
   ]
  },
  {
   "cell_type": "code",
   "execution_count": 21,
   "metadata": {},
   "outputs": [
    {
     "name": "stdout",
     "output_type": "stream",
     "text": [
      "                       precision    recall  f1-score   support\n",
      "\n",
      "Not for tax deduction       0.56      0.37      0.44      2101\n",
      "    For tax deduction       0.64      0.80      0.71      2932\n",
      "\n",
      "             accuracy                           0.62      5033\n",
      "            macro avg       0.60      0.58      0.58      5033\n",
      "         weighted avg       0.61      0.62      0.60      5033\n",
      "\n"
     ]
    }
   ],
   "source": [
    "X_train, X_test, Y_train, Y_test = train_test_split(X, Y, test_size = relative_best_ratio/100, random_state=71)\n",
    "clf = svm.SVC(random_state = 71, kernel = relative_best_kernel, gamma = relative_best_gamma)\n",
    "clf.fit(X_train, Y_train)\n",
    "Y_predict = clf.predict(X_test)\n",
    "print(classification_report(Y_test, Y_predict, target_names=labels))\n"
   ]
  },
  {
   "cell_type": "code",
   "execution_count": null,
   "metadata": {},
   "outputs": [],
   "source": []
  },
  {
   "cell_type": "markdown",
   "metadata": {},
   "source": [
    "### Decision Tree"
   ]
  },
  {
   "cell_type": "code",
   "execution_count": 22,
   "metadata": {},
   "outputs": [
    {
     "name": "stdout",
     "output_type": "stream",
     "text": [
      "best ratio of testing data: 10 best depth: 15 best min_sample_leaf: 3 \n",
      "Training score: 0.8026760283500033 Testing score: 0.793562487581959\n"
     ]
    }
   ],
   "source": [
    "from sklearn import tree\n",
    "\n",
    "\n",
    "ratio = 100\n",
    "ratiovalues = [i for i in range(10, ratio, 10)]\n",
    "depth = 21\n",
    "depthvalues = [i for i in range(1, depth)]\n",
    "leaf = 10\n",
    "leafvalues = [i for i in range(1, leaf)]\n",
    "relative_best_train_score = 0\n",
    "relative_best_test_score = 0\n",
    "relative_best_ratio = 0\n",
    "relative_best_depth = 0\n",
    "relative_best_leaf = 0\n",
    "\n",
    "for k in ratiovalues:\n",
    "    X_train, X_test, y_train, y_test = train_test_split(X, Y, test_size = k/100, random_state=71)\n",
    "    for i in depthvalues:\n",
    "        for j in leafvalues:\n",
    "            clf = tree.DecisionTreeClassifier(random_state=2023, max_depth = i, min_samples_leaf = j)\n",
    "            clf.fit(X_train, y_train)\n",
    "            y_pred_train = clf.predict(X_train)\n",
    "            train_acc = accuracy_score(y_pred_train, y_train)\n",
    "            y_pred_test = clf.predict(X_test)\n",
    "            test_acc = accuracy_score(y_pred_test, y_test)\n",
    "\n",
    "\n",
    "            if ((train_acc > relative_best_train_score) and (test_acc > relative_best_test_score)):\n",
    "                relative_best_train_score = train_acc\n",
    "                relative_best_test_score = test_acc\n",
    "                relative_best_ratio = k\n",
    "                relative_best_depth = i\n",
    "                relative_best_leaf = j\n",
    "\n",
    "\n",
    "print(\"best ratio of testing data:\", relative_best_ratio, \"best depth:\", relative_best_depth, \"best min_sample_leaf:\", relative_best_leaf, \\\n",
    "      \"\\nTraining score:\", relative_best_train_score, \"Testing score:\", relative_best_test_score)"
   ]
  },
  {
   "cell_type": "markdown",
   "metadata": {},
   "source": [
    "Best Performance\n",
    "- ratio of testing data: 10\n",
    "- depth: 15\n",
    "- min_sample_leaf: 3\n",
    "- Training score: 0.80267\n",
    "- Testing score: 0.79356"
   ]
  },
  {
   "cell_type": "markdown",
   "metadata": {},
   "source": [
    "Classification Report"
   ]
  },
  {
   "cell_type": "code",
   "execution_count": 23,
   "metadata": {},
   "outputs": [
    {
     "name": "stdout",
     "output_type": "stream",
     "text": [
      "                       precision    recall  f1-score   support\n",
      "\n",
      "Not for tax deduction       0.77      0.71      0.74      2101\n",
      "    For tax deduction       0.81      0.85      0.83      2932\n",
      "\n",
      "             accuracy                           0.79      5033\n",
      "            macro avg       0.79      0.78      0.79      5033\n",
      "         weighted avg       0.79      0.79      0.79      5033\n",
      "\n"
     ]
    }
   ],
   "source": [
    "X_train, X_test, Y_train, Y_test = train_test_split(X, Y, test_size = relative_best_ratio/100, random_state=71)\n",
    "clf = tree.DecisionTreeClassifier(random_state = 71, max_depth = relative_best_depth, min_samples_leaf = relative_best_leaf)\n",
    "clf.fit(X_train, Y_train)\n",
    "Y_predict = clf.predict(X_test)\n",
    "print(classification_report(Y_test, Y_predict, target_names=labels))\n"
   ]
  },
  {
   "cell_type": "markdown",
   "metadata": {},
   "source": [
    "### Random Forest"
   ]
  },
  {
   "cell_type": "code",
   "execution_count": 24,
   "metadata": {},
   "outputs": [
    {
     "name": "stdout",
     "output_type": "stream",
     "text": [
      "best ratio of testing data: 10 best depth: 12 best min_sample_leaf: 2 \n",
      "Training score: 0.792320770130931 Testing score: 0.79256904430757\n"
     ]
    }
   ],
   "source": [
    "from sklearn.ensemble import RandomForestClassifier\n",
    "\n",
    "\n",
    "ratio = 100\n",
    "ratiovalues = [i for i in range(10, ratio, 10)]\n",
    "depth = 21\n",
    "depthvalues = [i for i in range(1, depth)]\n",
    "leaf = 10\n",
    "leafvalues = [i for i in range(1, leaf)]\n",
    "n_estimator = 250\n",
    "n_estimatorvalues = [i for i in range(100, n_estimator, 50)]\n",
    "relative_best_estimators = 0\n",
    "relative_best_train_score = 0\n",
    "relative_best_test_score = 0\n",
    "relative_best_ratio = 0\n",
    "relative_best_depth = 0\n",
    "relative_best_leaf = 0\n",
    "\n",
    "for k in ratiovalues:\n",
    "    X_train, X_test, y_train, y_test = train_test_split(X, Y, test_size = k/100, random_state=71)\n",
    "    for l in n_estimatorvalues:\n",
    "        for i in depthvalues:\n",
    "            for j in leafvalues:\n",
    "                clf = RandomForestClassifier(random_state=2023,n_estimators = l,  max_depth = i, min_samples_leaf = j)\n",
    "                clf.fit(X_train, y_train)\n",
    "                y_pred_train = clf.predict(X_train)\n",
    "                train_acc = accuracy_score(y_pred_train, y_train)\n",
    "                y_pred_test = clf.predict(X_test)\n",
    "                test_acc = accuracy_score(y_pred_test, y_test)\n",
    "\n",
    "\n",
    "                if ((train_acc > relative_best_train_score) and (test_acc > relative_best_test_score)):\n",
    "                    relative_best_train_score = train_acc\n",
    "                    relative_best_test_score = test_acc\n",
    "                    relative_best_ratio = k\n",
    "                    relative_best_estimators = l\n",
    "                    relative_best_depth = i\n",
    "                    relative_best_leaf = j\n",
    "\n",
    "\n",
    "print(\"best ratio of testing data:\", relative_best_ratio, \"best depth:\", relative_best_depth, \"best min_sample_leaf:\", relative_best_leaf, \\\n",
    "      \"\\nTraining score:\", relative_best_train_score, \"Testing score:\", relative_best_test_score)"
   ]
  },
  {
   "cell_type": "markdown",
   "metadata": {},
   "source": [
    "Best Performance\n",
    "- ratio of testing data: 10\n",
    "- depth: 12\n",
    "- min_sample_leaf: 2\n",
    "- Training score: 0.792320770130931\n",
    "- Testing score: 0.79256904430757"
   ]
  },
  {
   "cell_type": "markdown",
   "metadata": {},
   "source": [
    "Classification Report"
   ]
  },
  {
   "cell_type": "code",
   "execution_count": 25,
   "metadata": {},
   "outputs": [
    {
     "name": "stdout",
     "output_type": "stream",
     "text": [
      "                       precision    recall  f1-score   support\n",
      "\n",
      "Not for tax deduction       0.80      0.67      0.73      2101\n",
      "    For tax deduction       0.79      0.88      0.83      2932\n",
      "\n",
      "             accuracy                           0.79      5033\n",
      "            macro avg       0.80      0.77      0.78      5033\n",
      "         weighted avg       0.79      0.79      0.79      5033\n",
      "\n"
     ]
    }
   ],
   "source": [
    "X_train, X_test, Y_train, Y_test = train_test_split(X, Y, test_size = relative_best_ratio/100, random_state=71)\n",
    "clf = RandomForestClassifier(random_state = 71, max_depth = relative_best_depth, min_samples_leaf = relative_best_leaf)\n",
    "clf.fit(X_train, Y_train)\n",
    "Y_predict = clf.predict(X_test)\n",
    "print(classification_report(Y_test, Y_predict, target_names=labels))"
   ]
  },
  {
   "cell_type": "markdown",
   "metadata": {},
   "source": [
    "### XGBoost"
   ]
  },
  {
   "cell_type": "code",
   "execution_count": 26,
   "metadata": {},
   "outputs": [
    {
     "name": "stdout",
     "output_type": "stream",
     "text": [
      "best ratio of testing data: 10 best no. of estimators: 100 best depth: 4 best learning_rate: 1 \n",
      "Training score: 0.8036475237905986 Testing score: 0.8025034770514604\n"
     ]
    }
   ],
   "source": [
    "from xgboost.sklearn import XGBClassifier\n",
    "\n",
    "\n",
    "ratio = 100\n",
    "ratiovalues = [i for i in range(10, ratio, 10)]\n",
    "n_estimator = 250\n",
    "n_estimatorvalues = [i for i in range(100, n_estimator, 50)]\n",
    "depth = 8\n",
    "depthvalues = [i for i in range(1, depth)]\n",
    "rate = 3\n",
    "ratevalues = [i for i in range(1, rate)]\n",
    "relative_best_train_score = 0\n",
    "relative_best_test_score = 0\n",
    "relative_best_ratio = 0\n",
    "relative_best_estimators = 0\n",
    "relative_best_depth = 0\n",
    "relative_best_rate = 0\n",
    "\n",
    "for k in ratiovalues:\n",
    "    X_train, X_test, y_train, y_test = train_test_split(X, Y, test_size = k/100, random_state=71)\n",
    "    for l in n_estimatorvalues:\n",
    "        for i in depthvalues:\n",
    "            for j in ratevalues:\n",
    "                clf = XGBClassifier(random_state = 71, n_estimators = l, max_depth = i, learning_rate = j)\n",
    "                clf.fit(X_train, y_train)\n",
    "                y_pred_train = clf.predict(X_train) #train\n",
    "                train_acc = accuracy_score(y_pred_train, y_train)\n",
    "                y_pred_test = clf.predict(X_test) #train\n",
    "                test_acc = accuracy_score(y_pred_test, y_test)\n",
    "\n",
    "                if ((train_acc > relative_best_train_score) and (test_acc > relative_best_test_score)):\n",
    "                    relative_best_train_score = train_acc\n",
    "                    relative_best_test_score = test_acc\n",
    "                    relative_best_ratio = k\n",
    "                    relative_best_estimators = l\n",
    "                    relative_best_depth = i\n",
    "                    relative_best_rate = j\n",
    "\n",
    "print(\"best ratio of testing data:\", relative_best_ratio, \"best no. of estimators:\", relative_best_estimators, \"best depth:\", relative_best_depth, \"best learning_rate:\", relative_best_rate, \\\n",
    "      \"\\nTraining score:\", relative_best_train_score, \"Testing score:\", relative_best_test_score)"
   ]
  },
  {
   "cell_type": "markdown",
   "metadata": {},
   "source": [
    "Best Performance\n",
    "- ratio of testing data: 10\n",
    "- no. of estimators: 100\n",
    "- depth: 4\n",
    "- learning rate: 1\n",
    "- Training score: 0.803647\n",
    "- Testing score: 0.8025034"
   ]
  },
  {
   "cell_type": "markdown",
   "metadata": {},
   "source": [
    "Classification Report"
   ]
  },
  {
   "cell_type": "code",
   "execution_count": 27,
   "metadata": {},
   "outputs": [
    {
     "name": "stdout",
     "output_type": "stream",
     "text": [
      "                       precision    recall  f1-score   support\n",
      "\n",
      "Not for tax deduction       0.78      0.74      0.76      2101\n",
      "    For tax deduction       0.82      0.85      0.83      2932\n",
      "\n",
      "             accuracy                           0.80      5033\n",
      "            macro avg       0.80      0.79      0.80      5033\n",
      "         weighted avg       0.80      0.80      0.80      5033\n",
      "\n"
     ]
    }
   ],
   "source": [
    "X_train, X_test, Y_train, Y_test = train_test_split(X, Y, test_size = relative_best_ratio/100, random_state=71)\n",
    "clf = XGBClassifier(random_state = 71, max_depth = relative_best_depth, n_estimators = relative_best_estimators, learning_rate = relative_best_rate)\n",
    "clf.fit(X_train, Y_train)\n",
    "Y_predict = clf.predict(X_test)\n",
    "print(classification_report(Y_test, Y_predict, target_names=labels))\n"
   ]
  }
 ],
 "metadata": {
  "kernelspec": {
   "display_name": "Python 3 (ipykernel)",
   "language": "python",
   "name": "python3"
  },
  "language_info": {
   "codemirror_mode": {
    "name": "ipython",
    "version": 3
   },
   "file_extension": ".py",
   "mimetype": "text/x-python",
   "name": "python",
   "nbconvert_exporter": "python",
   "pygments_lexer": "ipython3",
   "version": "3.11.7"
  }
 },
 "nbformat": 4,
 "nbformat_minor": 4
}
