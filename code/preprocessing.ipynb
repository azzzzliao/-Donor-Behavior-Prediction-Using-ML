{
 "cells": [
  {
   "cell_type": "markdown",
   "metadata": {},
   "source": [
    "## Preprocessing"
   ]
  },
  {
   "cell_type": "markdown",
   "metadata": {},
   "source": [
    "### Read data"
   ]
  },
  {
   "cell_type": "code",
   "execution_count": 4,
   "metadata": {},
   "outputs": [],
   "source": [
    "import pandas as pd\n",
    "import numpy as np\n",
    "\n",
    "data = pd.read_csv('test.csv')\n",
    "dt = data"
   ]
  },
  {
   "cell_type": "markdown",
   "metadata": {},
   "source": [
    "### Fill NaN based on existing data"
   ]
  },
  {
   "cell_type": "markdown",
   "metadata": {},
   "source": [
    "-  Calculate region destribution (Follow the distribution of existing data and replace NaN by random choice according to the distribution.)"
   ]
  },
  {
   "cell_type": "markdown",
   "metadata": {},
   "source": [
    "- Keep each id has only one city"
   ]
  },
  {
   "cell_type": "code",
   "execution_count": 5,
   "metadata": {},
   "outputs": [],
   "source": [
    "\n",
    "# Calculate the probability distribution of valid city values\n",
    "valid_cities = data[data['city'] != -1]['city']\n",
    "city_distribution = valid_cities.value_counts(normalize=True)\n",
    "# print (city_distribution)\n",
    "\n",
    "# Create a dictionary to map each donation_id to a city\n",
    "donation_city_dict = {}\n",
    "for donation_id in data['donation_id'].unique():\n",
    "    city = data.loc[data['donation_id'] == donation_id, 'city']\n",
    "    if all(city == -1):  # If all city values are -1 for this donation_id\n",
    "        # print('abcdefg')\n",
    "        # print (city)\n",
    "        chosen_city = np.random.choice(city_distribution.index, p=city_distribution.values)\n",
    "        # print(chosen_city)\n",
    "    else:\n",
    "        # print ('all city values are not -1')\n",
    "        # print (city)\n",
    "        chosen_city = city[city != '-1'].iloc[0]  # Take the first valid city\n",
    "    donation_city_dict[donation_id] = chosen_city\n",
    "\n",
    "# print (donation_city_dict)\n",
    "\n",
    "# Replace '-1' city values in the original DataFrame using the dictionary\n",
    "data['city'] = data['donation_id'].apply(lambda id: donation_city_dict[id])\n",
    "\n"
   ]
  },
  {
   "cell_type": "markdown",
   "metadata": {},
   "source": [
    "### Export csv"
   ]
  },
  {
   "cell_type": "code",
   "execution_count": 6,
   "metadata": {},
   "outputs": [
    {
     "name": "stdout",
     "output_type": "stream",
     "text": [
      "       donation_id  donater_type  category  year  month  amount  city  tax  \\\n",
      "0              120             1         0  2022      1     500    32    0   \n",
      "1              120             1         0  2022      2     500    32    0   \n",
      "2              120             1         0  2022      3     500    32    0   \n",
      "3              120             1         0  2022      4     500    32    0   \n",
      "4              120             1         0  2022      5     500    32    0   \n",
      "...            ...           ...       ...   ...    ...     ...   ...  ...   \n",
      "50319        31539             0        -1  2023      6    1000     5    0   \n",
      "50320        31540             0         0  2023      6    1000    31    1   \n",
      "50321        31544             1         1  2023      6    1000     3    1   \n",
      "50322        31545             0        -1  2023      6    3000     5    0   \n",
      "50323        31547             0        -1  2023      6     100    31    0   \n",
      "\n",
      "                     name  \n",
      "0      私立高榮旌旗美語文理珠心算短期補習班  \n",
      "1      私立高榮旌旗美語文理珠心算短期補習班  \n",
      "2      私立高榮旌旗美語文理珠心算短期補習班  \n",
      "3      私立高榮旌旗美語文理珠心算短期補習班  \n",
      "4      私立高榮旌旗美語文理珠心算短期補習班  \n",
      "...                   ...  \n",
      "50319                 呂尉綾  \n",
      "50320                 高郁君  \n",
      "50321                 蔡瀚輝  \n",
      "50322                 何柏融  \n",
      "50323                 蕭念華  \n",
      "\n",
      "[50324 rows x 9 columns]\n"
     ]
    }
   ],
   "source": [
    "print (dt)\n",
    "dt.to_csv('dataset.csv', index=False)"
   ]
  },
  {
   "cell_type": "code",
   "execution_count": null,
   "metadata": {},
   "outputs": [],
   "source": []
  }
 ],
 "metadata": {
  "kernelspec": {
   "display_name": "Python 3 (ipykernel)",
   "language": "python",
   "name": "python3"
  },
  "language_info": {
   "codemirror_mode": {
    "name": "ipython",
    "version": 3
   },
   "file_extension": ".py",
   "mimetype": "text/x-python",
   "name": "python",
   "nbconvert_exporter": "python",
   "pygments_lexer": "ipython3",
   "version": "3.11.7"
  }
 },
 "nbformat": 4,
 "nbformat_minor": 4
}
