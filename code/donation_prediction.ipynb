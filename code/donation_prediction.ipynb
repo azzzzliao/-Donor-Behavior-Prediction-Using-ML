{
 "cells": [
  {
   "cell_type": "markdown",
   "metadata": {
    "id": "vj3ah8ZCrKZK"
   },
   "source": [
    "## Predict whether a person regularly donates"
   ]
  },
  {
   "cell_type": "code",
   "execution_count": 1,
   "metadata": {
    "executionInfo": {
     "elapsed": 1602,
     "status": "ok",
     "timestamp": 1716571488741,
     "user": {
      "displayName": "廖羽翎",
      "userId": "07257958894208176822"
     },
     "user_tz": -480
    },
    "id": "bS9PK04-81Ii"
   },
   "outputs": [],
   "source": [
    "import pandas as pd\n",
    "from sklearn.model_selection import train_test_split\n",
    "from sklearn.metrics import classification_report, accuracy_score\n",
    "\n",
    "# Load Data\n",
    "df = pd.read_csv('dataset.csv')\n",
    "X = df.drop(['donation_id','donater_type','name'], axis=1)\n",
    "y = df['donater_type']"
   ]
  },
  {
   "cell_type": "markdown",
   "metadata": {
    "id": "qWWlvm5Grqm1"
   },
   "source": [
    "#### Decision Tree"
   ]
  },
  {
   "cell_type": "code",
   "execution_count": 2,
   "metadata": {
    "colab": {
     "base_uri": "https://localhost:8080/"
    },
    "executionInfo": {
     "elapsed": 36821,
     "status": "ok",
     "timestamp": 1716571531138,
     "user": {
      "displayName": "廖羽翎",
      "userId": "07257958894208176822"
     },
     "user_tz": -480
    },
    "id": "xMC9PqF9ojbP",
    "outputId": "b096bc67-a83f-4616-cb71-b286ab720eb3"
   },
   "outputs": [
    {
     "name": "stdout",
     "output_type": "stream",
     "text": [
      "Best ratio of testing data: 20\n",
      "Best Parameters: 'max_depth': 12, 'min_samples_leaf': 1\n",
      "Classification Report:\n",
      "               precision    recall  f1-score   support\n",
      "\n",
      "           0       0.70      0.44      0.55      1042\n",
      "           1       0.94      0.98      0.96      9023\n",
      "\n",
      "    accuracy                           0.92     10065\n",
      "   macro avg       0.82      0.71      0.75     10065\n",
      "weighted avg       0.91      0.92      0.92     10065\n",
      "\n"
     ]
    }
   ],
   "source": [
    "from sklearn.tree import DecisionTreeClassifier\n",
    "\n",
    "ratiovalues = [10, 20, 30]\n",
    "depthvalues = [i for i in range(1, 21)]\n",
    "leafvalues = [i for i in range(1, 10)]\n",
    "relative_best_train_score = 0\n",
    "relative_best_test_score = 0\n",
    "relative_best_ratio = 0\n",
    "relative_best_depth = 0\n",
    "relative_best_leaf = 0\n",
    "\n",
    "for k in ratiovalues:\n",
    "    X_train, X_test, y_train, y_test = train_test_split(X, y, test_size = k/100, random_state=71)\n",
    "    for i in depthvalues:\n",
    "        for j in leafvalues:\n",
    "            clf = DecisionTreeClassifier(random_state = 71, max_depth = i, min_samples_leaf = j)\n",
    "            clf.fit(X_train, y_train)\n",
    "            y_pred_train = clf.predict(X_train)\n",
    "            train_acc = accuracy_score(y_pred_train, y_train)\n",
    "            y_pred_test = clf.predict(X_test)\n",
    "            test_acc = accuracy_score(y_pred_test, y_test)\n",
    "\n",
    "            if ((train_acc > relative_best_train_score) and (test_acc > relative_best_test_score)):\n",
    "                relative_best_train_score = train_acc\n",
    "                relative_best_test_score = test_acc\n",
    "                relative_best_ratio = k\n",
    "                relative_best_depth = i\n",
    "                relative_best_leaf = j\n",
    "\n",
    "\n",
    "print(\"Best ratio of testing data:\", relative_best_ratio)\n",
    "print(f\"Best Parameters: 'max_depth': {relative_best_depth}, 'min_samples_leaf': {relative_best_leaf}\")\n",
    "\n",
    "X_train, X_test, y_train, y_test = train_test_split(X, y, test_size = relative_best_ratio/100, random_state=71)\n",
    "clf = DecisionTreeClassifier(random_state = 71, max_depth = relative_best_depth, min_samples_leaf = relative_best_leaf)\n",
    "clf.fit(X_train, y_train)\n",
    "y_pred = clf.predict(X_test)\n",
    "print(\"Classification Report:\\n\", classification_report(y_test, y_pred))"
   ]
  },
  {
   "cell_type": "markdown",
   "metadata": {
    "id": "Ueh8-2ddrxSY"
   },
   "source": [
    "#### Random Forest"
   ]
  },
  {
   "cell_type": "code",
   "execution_count": 3,
   "metadata": {
    "colab": {
     "base_uri": "https://localhost:8080/"
    },
    "executionInfo": {
     "elapsed": 568424,
     "status": "ok",
     "timestamp": 1716572122773,
     "user": {
      "displayName": "廖羽翎",
      "userId": "07257958894208176822"
     },
     "user_tz": -480
    },
    "id": "ELRMCoRsolSz",
    "outputId": "057ebf52-64b7-4a49-d546-3b3f6648af5d"
   },
   "outputs": [
    {
     "name": "stdout",
     "output_type": "stream",
     "text": [
      "Best ratio of testing data: 30\n",
      "Best Parameters: 'n_estimators': 100, 'max_depth': 7, 'min_samples_leaf': 1\n",
      "Classification Report:\n",
      "               precision    recall  f1-score   support\n",
      "\n",
      "           0       0.75      0.32      0.45      1565\n",
      "           1       0.93      0.99      0.96     13533\n",
      "\n",
      "    accuracy                           0.92     15098\n",
      "   macro avg       0.84      0.65      0.70     15098\n",
      "weighted avg       0.91      0.92      0.90     15098\n",
      "\n"
     ]
    }
   ],
   "source": [
    "from sklearn.ensemble import RandomForestClassifier\n",
    "\n",
    "ratiovalues = [10, 20, 30]\n",
    "n_estimatorvalues = [i for i in range(100, 250, 50)]\n",
    "depthvalues = [i for i in range(1, 8)]\n",
    "leafvalues = [i for i in range(1, 5)]\n",
    "relative_best_train_score = 0\n",
    "relative_best_test_score = 0\n",
    "relative_best_ratio = 0\n",
    "relative_best_estimators = 0\n",
    "relative_best_depth = 0\n",
    "relative_best_leaf = 0\n",
    "\n",
    "for k in ratiovalues:\n",
    "    X_train, X_test, y_train, y_test = train_test_split(X, y, test_size = k/100, random_state=71)\n",
    "    for l in n_estimatorvalues:\n",
    "        for i in depthvalues:\n",
    "            for j in leafvalues:\n",
    "                clf = RandomForestClassifier(random_state = 71, n_estimators = l, max_depth = i, min_samples_leaf = j)\n",
    "                clf.fit(X_train, y_train)\n",
    "                y_pred_train = clf.predict(X_train) #train\n",
    "                train_acc = accuracy_score(y_pred_train, y_train)\n",
    "                y_pred_test = clf.predict(X_test) #train\n",
    "                test_acc = accuracy_score(y_pred_test, y_test)\n",
    "\n",
    "                if ((train_acc > relative_best_train_score) and (test_acc > relative_best_test_score)):\n",
    "                    relative_best_train_score = train_acc\n",
    "                    relative_best_test_score = test_acc\n",
    "                    relative_best_ratio = k\n",
    "                    relative_best_estimators = l\n",
    "                    relative_best_depth = i\n",
    "                    relative_best_leaf = j\n",
    "\n",
    "print(\"Best ratio of testing data:\", relative_best_ratio)\n",
    "print(f\"Best Parameters: 'n_estimators': {relative_best_estimators}, 'max_depth': {relative_best_depth}, 'min_samples_leaf': {relative_best_leaf}\")\n",
    "\n",
    "X_train, X_test, y_train, y_test = train_test_split(X, y, test_size = relative_best_ratio/100, random_state=71)\n",
    "clf = RandomForestClassifier(random_state = 71, n_estimators = relative_best_estimators, max_depth = relative_best_depth, min_samples_leaf = relative_best_leaf)\n",
    "clf.fit(X_train, y_train)\n",
    "y_pred = clf.predict(X_test)\n",
    "print(\"Classification Report:\\n\", classification_report(y_test, y_pred))"
   ]
  },
  {
   "cell_type": "markdown",
   "metadata": {
    "id": "2gVJbUNjr0bs"
   },
   "source": [
    "#### SVC"
   ]
  },
  {
   "cell_type": "code",
   "execution_count": 4,
   "metadata": {
    "colab": {
     "base_uri": "https://localhost:8080/"
    },
    "executionInfo": {
     "elapsed": 413198,
     "status": "ok",
     "timestamp": 1716572564928,
     "user": {
      "displayName": "廖羽翎",
      "userId": "07257958894208176822"
     },
     "user_tz": -480
    },
    "id": "756j4T9goz28",
    "outputId": "bd53e15d-2968-406c-8109-d479baec1047"
   },
   "outputs": [
    {
     "name": "stdout",
     "output_type": "stream",
     "text": [
      "Best ratio of testing data: 10\n",
      "Best Parameters: 'kernel': rbf, 'gamma': scale\n",
      "Classification Report:\n",
      "               precision    recall  f1-score   support\n",
      "\n",
      "           0       0.76      0.19      0.30       540\n",
      "           1       0.91      0.99      0.95      4493\n",
      "\n",
      "    accuracy                           0.91      5033\n",
      "   macro avg       0.83      0.59      0.63      5033\n",
      "weighted avg       0.89      0.91      0.88      5033\n",
      "\n"
     ]
    }
   ],
   "source": [
    "from sklearn import svm\n",
    "\n",
    "ratiovalues = [10, 20, 30]\n",
    "kernelvalues = [\"rbf\", \"poly\"]\n",
    "gammavalues =[\"scale\"]\n",
    "relative_best_train_score = 0\n",
    "relative_best_test_score = 0\n",
    "relative_best_ratio = 0\n",
    "relative_best_kernel = \"\"\n",
    "relative_best_gamma = \"\"\n",
    "\n",
    "for k in ratiovalues:\n",
    "    X_train, X_test, y_train, y_test = train_test_split(X, y, test_size = k/100, random_state=71)\n",
    "    for i in kernelvalues:\n",
    "        for j in gammavalues:\n",
    "            clf = svm.SVC(random_state = 71, kernel = i, gamma = j)\n",
    "            clf.fit(X_train, y_train)\n",
    "            y_pred_train = clf.predict(X_train)\n",
    "            train_acc = accuracy_score(y_pred_train, y_train)\n",
    "            y_pred_test = clf.predict(X_test)\n",
    "            test_acc = accuracy_score(y_pred_test, y_test)\n",
    "\n",
    "            if ((train_acc > relative_best_train_score) and (test_acc > relative_best_test_score)):\n",
    "                relative_best_train_score = train_acc\n",
    "                relative_best_test_score = test_acc\n",
    "                relative_best_ratio = k\n",
    "                relative_best_kernel = i\n",
    "                relative_best_gamma = j\n",
    "\n",
    "print(\"Best ratio of testing data:\", relative_best_ratio)\n",
    "print(f\"Best Parameters: 'kernel': {relative_best_kernel}, 'gamma': {relative_best_gamma}\")\n",
    "\n",
    "X_train, X_test, y_train, y_test = train_test_split(X, y, test_size = relative_best_ratio/100, random_state=71)\n",
    "clf = svm.SVC(random_state = 71, kernel = relative_best_kernel, gamma = relative_best_gamma)\n",
    "clf.fit(X_train, y_train)\n",
    "y_pred = clf.predict(X_test)\n",
    "print(\"Classification Report:\\n\", classification_report(y_test, y_pred))"
   ]
  },
  {
   "cell_type": "markdown",
   "metadata": {
    "id": "McXYHzqrs18k"
   },
   "source": [
    "#### XGBoost"
   ]
  },
  {
   "cell_type": "code",
   "execution_count": 5,
   "metadata": {
    "colab": {
     "base_uri": "https://localhost:8080/"
    },
    "executionInfo": {
     "elapsed": 64996,
     "status": "ok",
     "timestamp": 1716572688862,
     "user": {
      "displayName": "廖羽翎",
      "userId": "07257958894208176822"
     },
     "user_tz": -480
    },
    "id": "0UDQs5K8rFxp",
    "outputId": "978c4d3b-5a4a-4a9c-93ba-03650e6e8fbc"
   },
   "outputs": [
    {
     "name": "stdout",
     "output_type": "stream",
     "text": [
      "Best ratio of testing data: 20\n",
      "Best Parameters: 'n_estimators': 100, 'max_depth': 6, 'learning_rate': 1\n",
      "Classification Report:\n",
      "               precision    recall  f1-score   support\n",
      "\n",
      "           0       0.73      0.46      0.56      1042\n",
      "           1       0.94      0.98      0.96      9023\n",
      "\n",
      "    accuracy                           0.93     10065\n",
      "   macro avg       0.84      0.72      0.76     10065\n",
      "weighted avg       0.92      0.93      0.92     10065\n",
      "\n"
     ]
    }
   ],
   "source": [
    "from xgboost.sklearn import XGBClassifier\n",
    "\n",
    "ratiovalues = [10, 20, 30]\n",
    "n_estimatorvalues = [i for i in range(100, 250, 50)]\n",
    "depthvalues = [i for i in range(1, 8)]\n",
    "ratevalues = [i for i in range(1, 3)]\n",
    "relative_best_train_score = 0\n",
    "relative_best_test_score = 0\n",
    "relative_best_ratio = 0\n",
    "relative_best_estimators = 0\n",
    "relative_best_depth = 0\n",
    "relative_best_rate = 0\n",
    "\n",
    "for k in ratiovalues:\n",
    "    X_train, X_test, y_train, y_test = train_test_split(X, y, test_size = k/100, random_state=71)\n",
    "    for l in n_estimatorvalues:\n",
    "        for i in depthvalues:\n",
    "            for j in ratevalues:\n",
    "                clf = XGBClassifier(random_state = 71, n_estimators = l, max_depth = i, learning_rate = j)\n",
    "                clf.fit(X_train, y_train)\n",
    "                y_pred_train = clf.predict(X_train)\n",
    "                train_acc = accuracy_score(y_pred_train, y_train)\n",
    "                y_pred_test = clf.predict(X_test)\n",
    "                test_acc = accuracy_score(y_pred_test, y_test)\n",
    "\n",
    "                if ((train_acc > relative_best_train_score) and (test_acc > relative_best_test_score)):\n",
    "                    relative_best_train_score = train_acc\n",
    "                    relative_best_test_score = test_acc\n",
    "                    relative_best_ratio = k\n",
    "                    relative_best_estimators = l\n",
    "                    relative_best_depth = i\n",
    "                    relative_best_rate = j\n",
    "\n",
    "print(\"Best ratio of testing data:\", relative_best_ratio)\n",
    "print(f\"Best Parameters: 'n_estimators': {relative_best_estimators}, 'max_depth': {relative_best_depth}, 'learning_rate': {relative_best_rate}\")\n",
    "\n",
    "X_train, X_test, y_train, y_test = train_test_split(X, y, test_size = relative_best_ratio/100, random_state=71)\n",
    "clf = XGBClassifier(random_state = 71, n_estimators = relative_best_estimators, max_depth = relative_best_depth, learning_rate = relative_best_rate)\n",
    "clf.fit(X_train, y_train)\n",
    "y_pred = clf.predict(X_test)\n",
    "print(\"Classification Report:\\n\", classification_report(y_test, y_pred))"
   ]
  },
  {
   "cell_type": "code",
   "execution_count": null,
   "metadata": {
    "id": "HqWIjBJds4zu"
   },
   "outputs": [],
   "source": []
  }
 ],
 "metadata": {
  "accelerator": "GPU",
  "colab": {
   "authorship_tag": "ABX9TyNc9uFwfftbKGMcLPlG4pYb",
   "gpuType": "T4",
   "provenance": []
  },
  "kernelspec": {
   "display_name": "Python 3 (ipykernel)",
   "language": "python",
   "name": "python3"
  },
  "language_info": {
   "codemirror_mode": {
    "name": "ipython",
    "version": 3
   },
   "file_extension": ".py",
   "mimetype": "text/x-python",
   "name": "python",
   "nbconvert_exporter": "python",
   "pygments_lexer": "ipython3",
   "version": "3.11.7"
  }
 },
 "nbformat": 4,
 "nbformat_minor": 4
}
